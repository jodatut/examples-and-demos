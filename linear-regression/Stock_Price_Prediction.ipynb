{
 "cells": [
  {
   "cell_type": "code",
   "execution_count": null,
   "metadata": {},
   "outputs": [],
   "source": [
    "# Background information for the demo:\n",
    "# https://pythonprogramming.net/forecasting-predicting-machine-learning-tutorial/\n",
    "\n",
    "# https://jakevdp.github.io/blog/2017/12/05/installing-python-packages-from-jupyter/\n",
    "# Install a pip package in the current Jupyter kernel\n",
    "import sys\n",
    "!{sys.executable} -m pip install quandl\n",
    "\n",
    "import quandl"
   ]
  },
  {
   "cell_type": "code",
   "execution_count": null,
   "metadata": {},
   "outputs": [],
   "source": [
    "import pandas as pd\n",
    "import math, datetime\n",
    "import numpy as np\n",
    "from sklearn.linear_model import LinearRegression\n",
    "from sklearn.model_selection import train_test_split\n",
    "import matplotlib.pyplot as plt\n",
    "from matplotlib import style\n",
    "\n",
    "style.use('ggplot')"
   ]
  },
  {
   "cell_type": "code",
   "execution_count": null,
   "metadata": {},
   "outputs": [],
   "source": [
    "quandl.ApiConfig.api_key = 'iMS2CYmdLi5zXx5qAiAk' # use own api_key"
   ]
  },
  {
   "cell_type": "code",
   "execution_count": null,
   "metadata": {},
   "outputs": [],
   "source": [
    "# Get stock data\n",
    "stock = 'EURONEXT/NOKIA'\n",
    "df = quandl.get(stock, returns='pandas')      # Quandl has pandas dataframe built in\n",
    "df.tail()"
   ]
  },
  {
   "cell_type": "code",
   "execution_count": null,
   "metadata": {},
   "outputs": [],
   "source": [
    "# Create dataframe\n",
    "df = df[['Open', 'High', 'Low', 'Last', 'Volume', 'Turnover']]\n",
    "df['VOL_PCT'] = (df['High'] - df['Low']) / df['Last'] * 100.0\n",
    "\n",
    "df = df[['Open', 'Last', 'Volume', 'VOL_PCT']]\n",
    "\n",
    "forecast_col = 'Last'\n",
    "\n",
    "df.fillna(-99999, inplace=True)\n",
    "\n",
    "pct = 0.05\n",
    "forecast_out = int(math.ceil(pct*len(df)))      # pct of data set to where forecast is done in days\n",
    "\n",
    "df['label'] = df[forecast_col].shift(-forecast_out)\n",
    "\n",
    "X = np.array(df.drop(['label'], 1))  # Features, everything except label\n",
    "X_lately = X[-forecast_out:]         # Time period to be forecasted \n",
    "X = X[:-forecast_out:]\n",
    "\n",
    "df.dropna(inplace=True)             # Drop missing data\n",
    "\n",
    "y = np.array(df['label'])           # Labels\n",
    "\n",
    "X_train, X_test, y_train, y_test = train_test_split(X, y, test_size=0.2)    # Cross-validation\n",
    "\n",
    "clf = LinearRegression(n_jobs=-1)   # Classifier to be used, n_jobs number of parallel jobs\n",
    "clf.fit(X_train, y_train)           # Training"
   ]
  },
  {
   "cell_type": "code",
   "execution_count": null,
   "metadata": {},
   "outputs": [],
   "source": [
    "print()\n",
    "last_date = df.iloc[-1].name\n",
    "print(\"Last date:\", last_date)\n",
    "\n",
    "confidence = clf.score(X_test, y_test)      # Testing, result squared confidence\n",
    "print(\"Confidence: \", round(confidence,4))\n",
    "\n",
    "forecast_set = clf.predict(X_lately)        # Why not second parameter? - Label is known. (next day)\n",
    "print(\"The next stock prices of\" ,stock,\"for\", forecast_out, \"days: \")"
   ]
  },
  {
   "cell_type": "code",
   "execution_count": null,
   "metadata": {},
   "outputs": [],
   "source": [
    "i = 0\n",
    "# Console printing the forecast stock prices\n",
    "while i < len(forecast_set):\n",
    "    if i != 0:\n",
    "        daily_diff_pct = round((forecast_set[i]-forecast_set[i-1])/(forecast_set[i-1]+forecast_set[i]/2)*100,3)\n",
    "        daily_diff_lambda = lambda j: (\"+\" if j > 0 else \"\") + str(j)\n",
    "        print(\"\\t\", str(np.round(forecast_set[i],3)), \"\\t\", daily_diff_lambda(daily_diff_pct))\n",
    "    else:\n",
    "        print(\"\\t\", str(np.round(forecast_set[i],3)))\n",
    "    i += 1"
   ]
  },
  {
   "cell_type": "code",
   "execution_count": null,
   "metadata": {},
   "outputs": [],
   "source": [
    "df['Forecast'] = np.nan     # Create empty array\n",
    "\n",
    "# Populate the forecast set\n",
    "for i in forecast_set:\n",
    "    next_date = last_date + datetime.timedelta(days=1)\n",
    "    df.loc[next_date] = [np.nan for j in range(len(df.columns)-1)] + [i] # [i] adds the item to the set\n",
    "    last_date = next_date"
   ]
  },
  {
   "cell_type": "code",
   "execution_count": null,
   "metadata": {},
   "outputs": [],
   "source": [
    "# Plotting the results\n",
    "df['Last'].plot()\n",
    "df['Forecast'].plot()\n",
    "plt.legend(loc=3)\n",
    "plt.xlabel('Date')\n",
    "plt.ylabel('Stock price')\n",
    "plt.show()"
   ]
  },
  {
   "cell_type": "code",
   "execution_count": null,
   "metadata": {},
   "outputs": [],
   "source": []
  }
 ],
 "metadata": {
  "kernelspec": {
   "display_name": "Python 3",
   "language": "python",
   "name": "python3"
  }
 },
 "nbformat": 4,
 "nbformat_minor": 2
}
